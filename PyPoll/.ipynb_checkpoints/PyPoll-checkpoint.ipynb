{
 "cells": [
  {
   "cell_type": "code",
   "execution_count": 1,
   "metadata": {},
   "outputs": [],
   "source": [
    "# Import dependencies\n",
    "import os\n",
    "import csv"
   ]
  },
  {
   "cell_type": "code",
   "execution_count": 2,
   "metadata": {},
   "outputs": [],
   "source": [
    "# Set path for file\n",
    "csvpath = os.path.join(\"Resources\",\"election_data.csv\")"
   ]
  },
  {
   "cell_type": "code",
   "execution_count": 3,
   "metadata": {},
   "outputs": [],
   "source": [
    "# Open the CSV\n",
    "with open(csvpath, newline=\"\") as csvfile:\n",
    "    csvreader = csv.reader(csvfile, delimiter=\",\")\n",
    "\n",
    "    csv_header = next(csvreader)\n",
    "    \n",
    "    VoterID = []\n",
    "    County = []\n",
    "    Candidate = []\n",
    "\n",
    "#read contents of the file\n",
    "    for row in csvreader:\n",
    "        VoterID.append(row[0])\n",
    "        County.append(row[1])\n",
    "        Candidate.append(row[2])\n"
   ]
  },
  {
   "cell_type": "code",
   "execution_count": 4,
   "metadata": {},
   "outputs": [],
   "source": [
    "#get total votes\n",
    "total_votes = len(VoterID)"
   ]
  },
  {
   "cell_type": "code",
   "execution_count": 5,
   "metadata": {},
   "outputs": [],
   "source": [
    "#count votes\n",
    "khan_votes = 0\n",
    "correy_votes = 0\n",
    "li_votes = 0\n",
    "otooley_votes = 0\n",
    "\n",
    "for i in range(total_votes):\n",
    "    if Candidate[i] == \"Khan\":\n",
    "        khan_votes = khan_votes + 1\n",
    "    if Candidate[i] == \"Correy\":\n",
    "        correy_votes = correy_votes + 1\n",
    "    if Candidate[i] == \"Li\":\n",
    "        li_votes = li_votes + 1\n",
    "    if Candidate[i] == \"O'Tooley\":\n",
    "        otooley_votes = otooley_votes + 1\n",
    "        "
   ]
  },
  {
   "cell_type": "code",
   "execution_count": 6,
   "metadata": {},
   "outputs": [],
   "source": [
    "#analyse votes\n",
    "winner_vote_count = max(khan_votes,correy_votes,li_votes,otooley_votes)\n",
    "if khan_votes == winner_vote_count:\n",
    "    winner = \"Khan\"\n",
    "elif correy_votes == winner_vote_count:\n",
    "    winner = \"Correy\"\n",
    "elif li_votes == winner_vote_count:\n",
    "    winner = \"Li\"\n",
    "else:\n",
    "    winner = \"O'Tooley\""
   ]
  },
  {
   "cell_type": "code",
   "execution_count": 7,
   "metadata": {},
   "outputs": [
    {
     "name": "stdout",
     "output_type": "stream",
     "text": [
      "Election Results\n",
      "-------------------------\n",
      "Total Votes: 3521001\n",
      "-------------------------\n",
      "Khan: 63.000% (2218231)\n",
      "Correy: 20.000% (704200)\n",
      "Li: 14.000% (492940)\n",
      "O'Tooley: 3.000% (105630)\n",
      "-------------------------\n",
      "Winner: Khan\n",
      "-------------------------\n"
     ]
    }
   ],
   "source": [
    "#print out results to terminal\n",
    "print(f\"Election Results\")\n",
    "print(f\"-------------------------\")\n",
    "print(f\"Total Votes: {total_votes}\")\n",
    "print(f\"-------------------------\")\n",
    "print(f\"Khan: {(khan_votes*100)/total_votes:.3f}% ({khan_votes})\")\n",
    "print(f\"Correy: {(correy_votes*100)/total_votes:.3f}% ({correy_votes})\")\n",
    "print(f\"Li: {(li_votes*100)/total_votes:.3f}% ({li_votes})\")\n",
    "print(f\"O'Tooley: {(otooley_votes*100)/total_votes:.3f}% ({otooley_votes})\")\n",
    "print(f\"-------------------------\")\n",
    "print(f\"Winner: {winner}\")\n",
    "print(f\"-------------------------\")"
   ]
  },
  {
   "cell_type": "code",
   "execution_count": 9,
   "metadata": {},
   "outputs": [],
   "source": [
    "#write to output file\n",
    "output_file = os.path.join(\"Output\",\"poll_analysis.csv\")\n",
    "\n",
    "with open(output_file, \"w\", newline=\"\") as datafile:\n",
    "    writer = csv.writer(datafile)\n",
    "\n",
    "    writer.writerow(f\"Election Results\")\n",
    "    writer.writerow(f\"-------------------------\")\n",
    "    writer.writerow(f\"Total Votes: {total_votes}\")\n",
    "    writer.writerow(f\"-------------------------\")\n",
    "    writer.writerow(f\"Khan: {(khan_votes*100)/total_votes:.3f}% ({khan_votes})\")\n",
    "    writer.writerow(f\"Correy: {(correy_votes*100)/total_votes:.3f}% ({correy_votes})\")\n",
    "    writer.writerow(f\"Li: {(li_votes*100)/total_votes:.3f}% ({li_votes})\")\n",
    "    writer.writerow(f\"O'Tooley: {(otooley_votes*100)/total_votes:.3f}% ({otooley_votes})\")\n",
    "    writer.writerow(f\"-------------------------\")\n",
    "    writer.writerow(f\"Winner: {winner}\")\n",
    "    writer.writerow(f\"-------------------------\")"
   ]
  }
 ],
 "metadata": {
  "kernelspec": {
   "display_name": "Python 3",
   "language": "python",
   "name": "python3"
  },
  "language_info": {
   "codemirror_mode": {
    "name": "ipython",
    "version": 3
   },
   "file_extension": ".py",
   "mimetype": "text/x-python",
   "name": "python",
   "nbconvert_exporter": "python",
   "pygments_lexer": "ipython3",
   "version": "3.6.8"
  }
 },
 "nbformat": 4,
 "nbformat_minor": 2
}
